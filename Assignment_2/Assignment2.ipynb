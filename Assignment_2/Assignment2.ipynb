{
  "nbformat": 4,
  "nbformat_minor": 0,
  "metadata": {
    "colab": {
      "provenance": [],
      "authorship_tag": "ABX9TyNcMMT9zSB4zHe7+4Kw4U7A",
      "include_colab_link": true
    },
    "kernelspec": {
      "name": "python3",
      "display_name": "Python 3"
    },
    "language_info": {
      "name": "python"
    }
  },
  "cells": [
    {
      "cell_type": "markdown",
      "metadata": {
        "id": "view-in-github",
        "colab_type": "text"
      },
      "source": [
        "<a href=\"https://colab.research.google.com/github/gabriela-148/AI/blob/main/Assignment_2/Assignment2.ipynb\" target=\"_parent\"><img src=\"https://colab.research.google.com/assets/colab-badge.svg\" alt=\"Open In Colab\"/></a>"
      ]
    },
    {
      "cell_type": "markdown",
      "source": [
        "# **Gabriella Huegel**\n",
        "\n",
        "**Assignment 2 Report**\n",
        "\n",
        "\n",
        "**CSC362**\n",
        "\n",
        "\n",
        "**1/30/24**\n",
        "# Water Jug Puzzle"
      ],
      "metadata": {
        "id": "jrCxFPcqq86J"
      }
    },
    {
      "cell_type": "markdown",
      "source": [
        "For this assignment, I used Google Colab to execute all Python code. I also referenced the farmer_chicken_fox notebook in the AI repository. (https://colab.research.google.com/github/bforoura/AI/blob/main/Module1/farmer_chicken_fox.ipynb)"
      ],
      "metadata": {
        "id": "xMWIsWWFrMK4"
      }
    },
    {
      "cell_type": "markdown",
      "source": [
        "In this problem, I began with establishing the rules for the algorithm to follow as it tries to find a solution.\n",
        "\n",
        "The rules are as follows:\n",
        "\n",
        "\n",
        "1.   You can fill either jug\n",
        "2.   You can dump either jug\n",
        "3.   You can move any amount of water between the large and small jug.\n",
        "4.   You cannot move water from the small jug to the large jug.\n",
        "\n"
      ],
      "metadata": {
        "id": "nHKxDhOvrfEV"
      }
    },
    {
      "cell_type": "markdown",
      "source": [
        "Given these rules I started to create a WaterJugPuzzle class that will house all the methods to be used in determining the solution to the problem."
      ],
      "metadata": {
        "id": "r2B-7kqow1Ql"
      }
    },
    {
      "cell_type": "code",
      "execution_count": null,
      "metadata": {
        "id": "MpVt6Nn9q4v5"
      },
      "outputs": [],
      "source": [
        "class WaterJugPuzzle():\n",
        "\n",
        "    # We model the state using two jugs: large and small\n",
        "    # Both jugs are empty in their start state\n",
        "    def __init__(self):\n",
        "        self.large  = set([0])\n",
        "        self.small = set([0])\n",
        "\n",
        "    # This method fills the small jug entirely\n",
        "    def fillSmallJug(self):\n",
        "      self.small = {3}\n",
        "\n",
        "    # Checks to see if the jugs are filled appropiately\n",
        "    def checkState(self):\n",
        "      if all(element < 5 and element >= 0 for element in self.large):\n",
        "        return True\n",
        "      if all(element < 3 and element >= 0 for element in self.small):\n",
        "        return True\n",
        "      else: return False\n",
        "\n",
        "    # Saves the current state of each jug\n",
        "    def save_state(self):\n",
        "        self._large  = set(list(self.large))\n",
        "        self._small = set(list(self.small))\n",
        "\n",
        "    # Undo the most recent move made to the jugs\n",
        "    def undo_state(self):\n",
        "        self.large  = set(list(self._large))\n",
        "        self.small = set(list(self._small))\n",
        "\n",
        "\n",
        "\n",
        "    ####################################################################\n",
        "    # Rule 1: Fill the large jug with water\n",
        "    ####################################################################\n",
        "    def R1_fill_large_jug(self):\n",
        "\n",
        "        # Saves state before any changes are made\n",
        "        self.save_state()\n",
        "\n",
        "        # Fills the large jug with 5L of water\n",
        "        self.large = {5}\n",
        "\n",
        "        # Checks if this is a valid move\n",
        "        if not self.checkState():\n",
        "            self.undo_state()\n",
        "            raise ValueError('Large jug cannot be filled.')\n",
        "\n",
        "    ####################################################################\n",
        "    # Rule 2: Move water to fill the small jug\n",
        "    # This method will allow for water to be moved from the large jug to\n",
        "    # the smaller jug in any amount as long as the move is valid\n",
        "    ####################################################################\n",
        "    def R2_move_water_to_small(self, amt):\n",
        "        # Saves state before any changes are made\n",
        "        self.save_state()\n",
        "\n",
        "\n",
        "        # Subtract amt from each element in self.large\n",
        "        self.large = {element - amt for element in self.large}\n",
        "\n",
        "        # Add amt to self.small\n",
        "        self.small = {element + amt for element in self.small}\n",
        "\n",
        "        # Checks if move is valid\n",
        "        if not self.checkState():\n",
        "            self.undo_state()\n",
        "            raise ValueError('Move is not valid.')\n",
        "\n",
        "\n",
        "    ####################################################################\n",
        "    # Rule 3: Empty the small jug\n",
        "    ####################################################################\n",
        "    def R3_empty_small(self):\n",
        "\n",
        "        # Saves state before any changes are made\n",
        "        self.save_state()\n",
        "\n",
        "        # Empties the small jug of all contents\n",
        "        self.small = {0}\n",
        "\n",
        "        # Checks if move is valid\n",
        "        if not self.checkState():\n",
        "            self.undo_state()\n",
        "            raise ValueError('Small jug cannot be emptied')\n",
        "\n",
        "    ####################################################################\n",
        "    # Display both states of the jugs\n",
        "    ####################################################################\n",
        "    def print_state(self):\n",
        "        print(\"===> large: {s}, small: {h}\".format(s=self.large, h=self.small))\n",
        "\n"
      ]
    },
    {
      "cell_type": "markdown",
      "source": [
        "After completing the Python class above, I executed all the possible rules to solve the water jug puzzle. The solution I determined is below:"
      ],
      "metadata": {
        "id": "LzPC5-l710l3"
      }
    },
    {
      "cell_type": "code",
      "source": [
        "# Solution to WaterJugPuzzle\n",
        "\n",
        "water_jugs = WaterJugPuzzle()\n",
        "\n",
        "# print the initial state\n",
        "water_jugs.print_state()\n",
        "\n",
        "\n",
        "print(\"-----------------------\")\n",
        "# Applies Rule 1 and fills the large jug with 5L\n",
        "water_jugs.R1_fill_large_jug()\n",
        "water_jugs.print_state()\n",
        "\n",
        "print(\"-----------------------\")\n",
        "# Moves 3L from the larger jug to the smaller jug\n",
        "water_jugs.R2_move_water_to_small(3)\n",
        "water_jugs.print_state()\n",
        "\n",
        "print(\"-----------------------\")\n",
        "# Empties anything in the smaller jug\n",
        "water_jugs.R3_empty_small()\n",
        "water_jugs.print_state()\n",
        "\n",
        "print(\"-----------------------\")\n",
        "# Moves 2L from large jug to smaller jug\n",
        "water_jugs.R2_move_water_to_small(2)\n",
        "water_jugs.print_state()\n",
        "\n",
        "print(\"-----------------------\")\n",
        "# Applies Rule 1 and fills the large jug with 5L\n",
        "water_jugs.R1_fill_large_jug()\n",
        "water_jugs.print_state()\n",
        "\n",
        "print(\"-----------------------\")\n",
        "# Moves 1L from large jug to smaller jug\n",
        "water_jugs.R2_move_water_to_small(1)\n",
        "water_jugs.print_state()\n"
      ],
      "metadata": {
        "colab": {
          "base_uri": "https://localhost:8080/"
        },
        "id": "SadQGZDW1_it",
        "outputId": "c98d9338-28f1-462e-af32-fe3d8d10c9d2"
      },
      "execution_count": null,
      "outputs": [
        {
          "output_type": "stream",
          "name": "stdout",
          "text": [
            "===> large: {0}, small: {0}\n",
            "-----------------------\n",
            "===> large: {5}, small: {0}\n",
            "-----------------------\n",
            "===> large: {2}, small: {3}\n",
            "-----------------------\n",
            "===> large: {2}, small: {0}\n",
            "-----------------------\n",
            "===> large: {0}, small: {2}\n",
            "-----------------------\n",
            "===> large: {5}, small: {2}\n",
            "-----------------------\n",
            "===> large: {4}, small: {3}\n"
          ]
        }
      ]
    },
    {
      "cell_type": "markdown",
      "source": [
        "After completing this assignment, I found it easier to implement the movement of water between the jugs if a parameter was given. While this is not practical in real world coding, I thought that a machine learning algorithm could have a variable when applying the rules for a solution and subsitute the hard coded values for the variable and learn which values would work to complete this problem."
      ],
      "metadata": {
        "id": "vmyC1wTjbWtn"
      }
    }
  ]
}