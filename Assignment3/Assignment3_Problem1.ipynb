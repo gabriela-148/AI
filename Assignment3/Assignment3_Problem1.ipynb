{
  "nbformat": 4,
  "nbformat_minor": 0,
  "metadata": {
    "colab": {
      "provenance": [],
      "authorship_tag": "ABX9TyOygGwksXR+7mvL1kH7yE87",
      "include_colab_link": true
    },
    "kernelspec": {
      "name": "python3",
      "display_name": "Python 3"
    },
    "language_info": {
      "name": "python"
    }
  },
  "cells": [
    {
      "cell_type": "markdown",
      "metadata": {
        "id": "view-in-github",
        "colab_type": "text"
      },
      "source": [
        "<a href=\"https://colab.research.google.com/github/gabriela-148/AI/blob/main/Assignment3/Assignment3_Problem1.ipynb\" target=\"_parent\"><img src=\"https://colab.research.google.com/assets/colab-badge.svg\" alt=\"Open In Colab\"/></a>"
      ]
    },
    {
      "cell_type": "markdown",
      "source": [
        "# **Gabriella Huegel**\n",
        "\n",
        "**Assignment 3 Report**\n",
        "\n",
        "**CSC362**\n",
        "\n",
        "\n",
        "**2/12/24**\n",
        "# Problem 1"
      ],
      "metadata": {
        "id": "jrCxFPcqq86J"
      }
    },
    {
      "cell_type": "markdown",
      "source": [
        "For this assignment, I used Google Colab to execute all Python code. I also referenced the Breadth_First_Search notebook in the AI repository. (https://colab.research.google.com/github/bforoura/AI/blob/main/Module2/Breadth_First_Search.ipynb)"
      ],
      "metadata": {
        "id": "xMWIsWWFrMK4"
      }
    },
    {
      "cell_type": "markdown",
      "source": [
        "First, I created an adjacency list to resemble the image attached to the problem."
      ],
      "metadata": {
        "id": "2tP6W2tKWRip"
      }
    },
    {
      "cell_type": "code",
      "execution_count": 1,
      "metadata": {
        "id": "pF-43mW_WN9o"
      },
      "outputs": [],
      "source": [
        "# Created an adjacency list called friendsList\n",
        "\n",
        "friendsList = {\n",
        "    'Pam': ['Roger', 'Peter'],\n",
        "    'Roger': ['Anna', 'Pam'],\n",
        "    'Anna': ['Roger'],\n",
        "    'Peter': ['Pam', 'Amy'],\n",
        "    'Bob': ['Pam', 'Rob', 'Richard'],\n",
        "    'Rob': ['Bob'],\n",
        "    'Richard': ['Bob'],\n",
        "    'Amy': ['Peter']\n",
        "}\n"
      ]
    },
    {
      "cell_type": "markdown",
      "source": [
        "After creating the list of friends, I modified the BFS method we discussed in class to determine the kth level of friend that a certain person has a connection to."
      ],
      "metadata": {
        "id": "MM0fq6esZ6TB"
      }
    },
    {
      "cell_type": "code",
      "source": [
        "\n",
        "from collections import deque\n",
        "# Modified BFS algorithm\n",
        "def findFriends(graph, root, level):\n",
        "    visited, queue = set(), deque([(root)])  # Modified to include the level in the queue\n",
        "    visited.add(root)\n",
        "\n",
        "    # Initialize counter variables\n",
        "    branchLength = 0\n",
        "    currentLevel = 0\n",
        "\n",
        "    while queue:\n",
        "        vertex = queue.popleft()\n",
        "\n",
        "        # Stores length of a certain node branch\n",
        "        if branchLength == 0:\n",
        "          branchLength = len(graph[vertex])\n",
        "\n",
        "        # For every node in the graph, check if the node has been checked. if not add to queue\n",
        "        for neighbor in graph[vertex]:\n",
        "            if neighbor not in visited:\n",
        "                visited.add(neighbor)\n",
        "                queue.append((neighbor))  # Include the level in the queue\n",
        "\n",
        "        branchLength = branchLength - 1\n",
        "        if branchLength == 0:\n",
        "          currentLevel = currentLevel + 1\n",
        "\n",
        "        if currentLevel == level:\n",
        "          for node in queue:\n",
        "            print(node, end=\" \")\n",
        "          break\n"
      ],
      "metadata": {
        "id": "TwUcgk-TvEgN"
      },
      "execution_count": 3,
      "outputs": []
    },
    {
      "cell_type": "markdown",
      "source": [
        "Afterwards I tested the algorithm with the examples given in the prompt."
      ],
      "metadata": {
        "id": "Q93Cn55cJrUs"
      }
    },
    {
      "cell_type": "code",
      "source": [
        "# Test the function\n",
        "findFriends(friendsList, 'Bob', 3)"
      ],
      "metadata": {
        "colab": {
          "base_uri": "https://localhost:8080/"
        },
        "id": "Lyc0r2d1JwjR",
        "outputId": "7b786265-81f4-4605-9fb3-79194c8d95ae"
      },
      "execution_count": 4,
      "outputs": [
        {
          "output_type": "stream",
          "name": "stdout",
          "text": [
            "Anna Amy "
          ]
        }
      ]
    }
  ]
}