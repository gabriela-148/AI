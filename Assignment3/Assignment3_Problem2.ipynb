{
  "nbformat": 4,
  "nbformat_minor": 0,
  "metadata": {
    "colab": {
      "provenance": [],
      "authorship_tag": "ABX9TyPKrQe98Xhf4ex3MOixn6c8",
      "include_colab_link": true
    },
    "kernelspec": {
      "name": "python3",
      "display_name": "Python 3"
    },
    "language_info": {
      "name": "python"
    }
  },
  "cells": [
    {
      "cell_type": "markdown",
      "metadata": {
        "id": "view-in-github",
        "colab_type": "text"
      },
      "source": [
        "<a href=\"https://colab.research.google.com/github/gabriela-148/AI/blob/main/Assignment3/Assignment3_Problem2.ipynb\" target=\"_parent\"><img src=\"https://colab.research.google.com/assets/colab-badge.svg\" alt=\"Open In Colab\"/></a>"
      ]
    },
    {
      "cell_type": "markdown",
      "source": [
        "# **Gabriella Huegel**\n",
        "\n",
        "**Assignment 3 Report**\n",
        "\n",
        "**CSC362**\n",
        "\n",
        "\n",
        "**2/12/24**\n",
        "# Problem 2"
      ],
      "metadata": {
        "id": "jrCxFPcqq86J"
      }
    },
    {
      "cell_type": "markdown",
      "source": [
        "For this assignment, I used Google Colab to execute all Python code. I also referenced the Breadth_First_Search notebook in the AI repository. (https://colab.research.google.com/github/bforoura/AI/blob/main/Module2/Breadth_First_Search.ipynb)"
      ],
      "metadata": {
        "id": "xMWIsWWFrMK4"
      }
    },
    {
      "cell_type": "markdown",
      "source": [
        "First, I created an adjacency list to resemble the image attached to the problem."
      ],
      "metadata": {
        "id": "2tP6W2tKWRip"
      }
    },
    {
      "cell_type": "code",
      "source": [
        "# Adjacency list made to resemble photo attached to assignment\n",
        "socialNetwork = {\n",
        "    'Adam': ['Maria'],\n",
        "    'Maria': ['Sophia', 'Maya', 'David', 'Adam'],\n",
        "    'Maya': ['Maria', 'David', 'Sophia'],\n",
        "    'David': ['Maya', 'Maria'],\n",
        "    'Sophia': ['Maya', 'Maria']\n",
        "}\n"
      ],
      "metadata": {
        "id": "AFcKZ3wWJNLi"
      },
      "execution_count": 38,
      "outputs": []
    },
    {
      "cell_type": "markdown",
      "source": [
        "After creating the list of friends, I modified the BFS method we discussed in class to determine potential connections based on the node given."
      ],
      "metadata": {
        "id": "MM0fq6esZ6TB"
      }
    },
    {
      "cell_type": "code",
      "source": [
        "from collections import deque\n",
        "\n",
        "\n",
        "# Modified BFS algorithm\n",
        "def potentialFriends(graph, root):\n",
        "    visited, queue = set(), deque([(root)])  # Modified to include the level in the queue\n",
        "    visited.add(root)\n",
        "\n",
        "    # Temporary deque to hold potential connections\n",
        "    potentialConnections = deque([0])\n",
        "\n",
        "    while queue:\n",
        "        vertex = queue.popleft()\n",
        "        depth = potentialConnections.popleft()\n",
        "        if depth == 2:\n",
        "          print(vertex, end=\" \")\n",
        "\n",
        "        # For every node in the graph, check if the node has been checked. if not add to queue\n",
        "        for neighbor in graph[vertex]:\n",
        "            if neighbor not in visited:\n",
        "                visited.add(neighbor)\n",
        "                queue.append((neighbor))  # Include the level in the queue\n",
        "                potentialConnections.append(depth+1)  # Adds potential friends to temp deque\n"
      ],
      "metadata": {
        "id": "TwUcgk-TvEgN"
      },
      "execution_count": 39,
      "outputs": []
    },
    {
      "cell_type": "markdown",
      "source": [
        "Afterwards, I tested the algorithm using the examples provided in the assignment."
      ],
      "metadata": {
        "id": "C2s75UwwJWUC"
      }
    },
    {
      "cell_type": "code",
      "source": [
        "# Test method using method calls from assignment directions\n",
        "potentialFriends(socialNetwork, 'Adam')"
      ],
      "metadata": {
        "colab": {
          "base_uri": "https://localhost:8080/"
        },
        "id": "FNJGvxEMHuIu",
        "outputId": "25b647f8-b133-4db8-a6fe-92164b2d9ab7"
      },
      "execution_count": 40,
      "outputs": [
        {
          "output_type": "stream",
          "name": "stdout",
          "text": [
            "Sophia Maya David "
          ]
        }
      ]
    },
    {
      "cell_type": "code",
      "source": [
        "potentialFriends(socialNetwork, 'David')"
      ],
      "metadata": {
        "colab": {
          "base_uri": "https://localhost:8080/"
        },
        "id": "8q4LPzdyIBKL",
        "outputId": "37a6663a-ed91-4b8b-cb8c-2c12b7a132ba"
      },
      "execution_count": 41,
      "outputs": [
        {
          "output_type": "stream",
          "name": "stdout",
          "text": [
            "Sophia Adam "
          ]
        }
      ]
    },
    {
      "cell_type": "code",
      "source": [
        "potentialFriends(socialNetwork, 'Sophia')"
      ],
      "metadata": {
        "colab": {
          "base_uri": "https://localhost:8080/"
        },
        "id": "os7vjiUJICUy",
        "outputId": "55104446-cbc2-414a-fe29-6fd88edc2671"
      },
      "execution_count": 42,
      "outputs": [
        {
          "output_type": "stream",
          "name": "stdout",
          "text": [
            "David Adam "
          ]
        }
      ]
    }
  ]
}