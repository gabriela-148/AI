{
  "nbformat": 4,
  "nbformat_minor": 0,
  "metadata": {
    "colab": {
      "provenance": [],
      "authorship_tag": "ABX9TyOeh8ztReqOEmM/PIRQU5N0",
      "include_colab_link": true
    },
    "kernelspec": {
      "name": "python3",
      "display_name": "Python 3"
    },
    "language_info": {
      "name": "python"
    }
  },
  "cells": [
    {
      "cell_type": "markdown",
      "metadata": {
        "id": "view-in-github",
        "colab_type": "text"
      },
      "source": [
        "<a href=\"https://colab.research.google.com/github/gabriela-148/AI/blob/main/Assignment3/Assignment3_Problem3.ipynb\" target=\"_parent\"><img src=\"https://colab.research.google.com/assets/colab-badge.svg\" alt=\"Open In Colab\"/></a>"
      ]
    },
    {
      "cell_type": "markdown",
      "source": [
        "# **Gabriella Huegel**\n",
        "\n",
        "**Assignment 3 Report**\n",
        "\n",
        "**CSC362**\n",
        "\n",
        "\n",
        "**2/12/24**\n",
        "# Problem 3"
      ],
      "metadata": {
        "id": "jrCxFPcqq86J"
      }
    },
    {
      "cell_type": "markdown",
      "source": [
        "For this assignment, I used Google Colab to execute all Python code. I also referenced the Breadth_First_Search notebook in the AI repository. (https://colab.research.google.com/github/bforoura/AI/blob/main/Module2/Breadth_First_Search.ipynb)"
      ],
      "metadata": {
        "id": "xMWIsWWFrMK4"
      }
    },
    {
      "cell_type": "markdown",
      "source": [
        "First, I used the maze written in the Breadth_First_Search notebook as a reference for my DFS method. I added a new point 9 that has no connections to test my search method. Since 9 has no connections, when I run my method it should return 'Failure'."
      ],
      "metadata": {
        "id": "XJX08IEQEzX8"
      }
    },
    {
      "cell_type": "code",
      "source": [
        "# Adjacency list that stores the maze connections\n",
        "maze = {\n",
        "  '0' : ['1', '3'],\n",
        "  '1' : ['0', '4'],\n",
        "  '2' : ['5'],\n",
        "  '3' : ['0','6'],\n",
        "  '4' : ['1', '5'],\n",
        "  '5':  ['2', '4', '8'],\n",
        "  '6' : ['3','7'],\n",
        "  '7' : ['6'],\n",
        "  '8' : ['5'],\n",
        "  '9' : ['']\n",
        "}\n"
      ],
      "metadata": {
        "id": "aZTa17ABHre-"
      },
      "execution_count": 1,
      "outputs": []
    },
    {
      "cell_type": "markdown",
      "source": [
        "Next, I copied the BFS algorithm from the notebook. In class we discussed that the way to change BFS to DFS was to change .append to .appendleft in the for each loop. I did that change here to change this algorithm to depth first search."
      ],
      "metadata": {
        "id": "yKXTfEdMF1ZF"
      }
    },
    {
      "cell_type": "markdown",
      "source": [
        "The algorithm searches through the maze to find the goal state that is given to it. It returns 'Success' if the goal state can be reached and \"Failure\" if not."
      ],
      "metadata": {
        "id": "vgCm4XL4GFh4"
      }
    },
    {
      "cell_type": "code",
      "source": [
        "# See https://realpython.com/python-deque/\n",
        "\n",
        "from collections import deque\n",
        "\n",
        "# Start the graph search from root using a doubly-ended queue\n",
        "# Used the BFS from BFS juptyer notebook\n",
        "def DFS(graph, root, goal):\n",
        "\n",
        "    # deque is list-like container with fast appends and pops on either end\n",
        "    visited, queue = set(), deque([root])\n",
        "    visited.add(root)\n",
        "\n",
        "    # Initializes the boolean variable to store whether a solution can be found\n",
        "    possibleSolution = False\n",
        "\n",
        "    # Keep exploring as long as the queue is not empty\n",
        "    while queue:\n",
        "\n",
        "        # Dequeue a vertex from queue\n",
        "        vertex = queue.popleft()\n",
        "        # If node is the goal, then set the solution to true\n",
        "        if vertex == goal:\n",
        "          possibleSolution = True\n",
        "\n",
        "        # If not visited, mark it as visited, and enqueue it\n",
        "        for neighbor in graph[vertex]:\n",
        "            if neighbor not in visited:\n",
        "                visited.add(neighbor)\n",
        "                queue.appendleft(neighbor)\n",
        "\n",
        "    # If the goal state was reached, return 'Success', otherwise return 'Failure'\n",
        "    if possibleSolution:\n",
        "      print(\"Success\")\n",
        "    else:\n",
        "      print(\"Failure\")"
      ],
      "metadata": {
        "id": "L3N_mk1pG7Kk"
      },
      "execution_count": 7,
      "outputs": []
    },
    {
      "cell_type": "markdown",
      "source": [
        "Then, I tested the algorithm by giving it two goal states, one that was reachable and one that was not."
      ],
      "metadata": {
        "id": "XnDu59rVGSXR"
      }
    },
    {
      "cell_type": "code",
      "source": [
        "# Reachable goal state\n",
        "DFS(maze, '1', '7')"
      ],
      "metadata": {
        "colab": {
          "base_uri": "https://localhost:8080/"
        },
        "id": "I5z0Y50FGjDl",
        "outputId": "744bbb55-f30c-4361-d830-c904a4e92789"
      },
      "execution_count": 9,
      "outputs": [
        {
          "output_type": "stream",
          "name": "stdout",
          "text": [
            "Success\n"
          ]
        }
      ]
    },
    {
      "cell_type": "code",
      "source": [
        "# UNreachable goal state\n",
        "DFS(maze, '1', '9')"
      ],
      "metadata": {
        "colab": {
          "base_uri": "https://localhost:8080/"
        },
        "id": "7QD1D7_5Hyff",
        "outputId": "829bfd92-0f44-47ba-e97a-dc47a5cc00e7"
      },
      "execution_count": 11,
      "outputs": [
        {
          "output_type": "stream",
          "name": "stdout",
          "text": [
            "Failure\n"
          ]
        }
      ]
    }
  ]
}